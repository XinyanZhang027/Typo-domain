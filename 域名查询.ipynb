{
 "cells": [
  {
   "cell_type": "markdown",
   "metadata": {},
   "source": [
    "　一、字母残缺或多余。\n",
    " 字母残缺有几种情况，有时是重复的字母没了，如gogle.com;有时输太快了，某个字母没按出来，如googl.com;有时后缀字母输少了，如google.cm、google.co。字母多余又可分为相同字母多余，如gooole.com，另一种是不同字母多余，googtle.com。"
   ]
  },
  {
   "cell_type": "code",
   "execution_count": 25,
   "metadata": {},
   "outputs": [],
   "source": [
    "def loss(domain):\n",
    "    result=[]\n",
    "    for i in range(len(domain)):\n",
    "        if(domain[i]!='.'):\n",
    "            result.append(domain[0:i]+domain[i+1:])\n",
    "    return list(set(result))            "
   ]
  },
  {
   "cell_type": "code",
   "execution_count": 26,
   "metadata": {},
   "outputs": [],
   "source": [
    "def add1(domain):\n",
    "    result=[]\n",
    "    l=['aa','bb','cc','dd','ee','ff','gg','hh','ii','jj','kk','ll','mm','nn',\n",
    "      'oo','pp','qq','rr','ss','tt','uu','vv','ww','xx','yy','zz']\n",
    "\n",
    "    for item in l:\n",
    "        if item in domain:\n",
    "            i=domain.index(item)\n",
    "            domain=list(domain)\n",
    "            domain.insert(i+2,item[0])\n",
    "            domain=''.join(domain)\n",
    "            result.append(domain)\n",
    "    return list(set(result))\n",
    "                "
   ]
  },
  {
   "cell_type": "code",
   "execution_count": 27,
   "metadata": {},
   "outputs": [],
   "source": [
    "def add2(domain):\n",
    "    l='abcdefghijklmnopqrstuvwxyz'\n",
    "    result=[]\n",
    "    for i in range(domain.index('.')): #.com/.net等等之前的部分\n",
    "        domain=list(domain)\n",
    "        for item in l:\n",
    "            domain1=domain.copy()\n",
    "            domain1.insert(i,item)\n",
    "            w=''.join(domain1)\n",
    "            result.append(w)\n",
    "            domain1=domain.copy()\n",
    "            domain1.insert(i+1,item)\n",
    "            v=''.join(domain1)\n",
    "            result.append(v)\n",
    "    return result\n",
    "        "
   ]
  },
  {
   "cell_type": "markdown",
   "metadata": {},
   "source": [
    "二、字母顺序错误。\n",
    "    对于非英语国家的网民来说，这种错误挺常见，刚开始我对谷歌域名不太熟悉的时候，就输错过几次。一般说来，域名记得不太清楚或者输入太快都可能导致这种错误，如goolge.com。"
   ]
  },
  {
   "cell_type": "code",
   "execution_count": 28,
   "metadata": {},
   "outputs": [],
   "source": [
    "def exchange(domain):\n",
    "    result=[]\n",
    "    domain=list(domain)\n",
    "    for i in range(len(domain)-1):\n",
    "        if domain[i]!='.'and domain[i+1]!='.':\n",
    "            domain_copy=domain.copy()\n",
    "            t=domain_copy[i]\n",
    "            domain_copy[i]=domain_copy[i+1]\n",
    "            domain_copy[i+1]=t\n",
    "            result.append(''.join(domain_copy))\n",
    "    return list(set(result))\n",
    "    \n",
    "    "
   ]
  },
  {
   "cell_type": "markdown",
   "metadata": {},
   "source": [
    "三、字母输入错误。\n",
    "    由于按键位置的影响，同一个指头控制范围内的按键可能混淆，网民容易把某个字母输成这个字母键周围的字母键，如goofle.com、googke.com。特别是横向、纵向的输入错误最为常见，如“g”跟“f”，“i”跟“k”等。"
   ]
  },
  {
   "cell_type": "code",
   "execution_count": 45,
   "metadata": {},
   "outputs": [],
   "source": [
    "def mistake(domain):\n",
    "    d = {\n",
    "    'q':['a','w'],\n",
    "    'w':['q','e','s'],\n",
    "    'e':['w','r','d'],\n",
    "    'r':['e','t','f'],\n",
    "    't':['r','y','g'],\n",
    "    'y':['t','u','h'],\n",
    "    'u':['y','i','j'],\n",
    "    'i':['u','o','k'],\n",
    "    'o':['i','p','l'],\n",
    "    'p':['o','l'],\n",
    "    'a':['q','w','s','z'],\n",
    "    's':['w','e','a','d','z','x'],\n",
    "    'd':['e','r','s','f','x','c'],\n",
    "    'f':['r','t','d','g','c','v'],\n",
    "    'g':['t','y','f','h','v','b'],\n",
    "    'h':['y','u','g','j','b','n'],\n",
    "    'j':['u','i','h','k','n','m'],\n",
    "    'k':['i','o','j','l','m'],\n",
    "    'l':['o','p'],\n",
    "    'z':['a','s','x'],\n",
    "    'x':['z','s','d','c'],\n",
    "    'c':['d','f','x','v'],\n",
    "    'v':['f','g','c','b'],\n",
    "    'b':['g','h','v','n'],\n",
    "    'n':['h','j','b','m'],\n",
    "    'm':['j','k','n']  \n",
    "    }\n",
    "\n",
    "\n",
    "    result=[]\n",
    "\n",
    "    domain=list(domain)\n",
    "    for i in range(domain.index('.')):\n",
    "        if(domain[i] in 'qwertyuiopasdfghjklzxcvbnm'):\n",
    "            for k in range(len(d[domain[i]])):\n",
    "                domain1=domain.copy()\n",
    "                domain1[i]=d[domain1[i]][k]\n",
    "                domain1=''.join(domain1)\n",
    "                result.append(domain1)\n",
    "                domain1=domain.copy()\n",
    "    return result\n",
    "        "
   ]
  },
  {
   "cell_type": "markdown",
   "metadata": {},
   "source": [
    "四、漏掉点号。\n",
    "    一般的网民在输入某个域名的时候总会习惯性地加“www”，漏掉其后面的点号就变成了“wwwgoogle.com”。而google.com.cn则有可能被输成“googlecom.cn”。"
   ]
  },
  {
   "cell_type": "code",
   "execution_count": 41,
   "metadata": {},
   "outputs": [],
   "source": [
    "def www(domain):\n",
    "    result=[]\n",
    "    result.append('www'+domain)\n",
    "    return result"
   ]
  },
  {
   "cell_type": "markdown",
   "metadata": {},
   "source": [
    "五、拼音错误。可分为两种情况\n",
    " \n",
    "    1、域名被拼音化，如找谷歌google.com，直接输guge.com，新浪sina.com，被认为是xinlang.com等。\n",
    "    2、是发音近似导致错误，常见的有前后鼻音混淆，如开心网kaixin.com被输成kaixing.com，卷平舌不分，如智联招聘zhaopin.com，被输成zaopin.com。"
   ]
  },
  {
   "cell_type": "code",
   "execution_count": 37,
   "metadata": {},
   "outputs": [],
   "source": [
    "#前后鼻音混淆\n",
    "def ing(domain):\n",
    "    result=[]\n",
    "    if ('ing' not in domain and 'in' not in domain):\n",
    "        result.append(domain)\n",
    "        return result\n",
    "    \n",
    "    elif ('ing' not in domain and 'in' in domain):\n",
    "        i=domain.index('in')\n",
    "        domain=list(domain)\n",
    "        domain.insert(i+2,'g')\n",
    "        domain=''.join(domain)\n",
    "        result.append(domain)\n",
    "        return result\n",
    "    \n",
    "    elif 'ing' in domain:\n",
    "        i=domain.index('ing')\n",
    "        domain=list(domain)\n",
    "        domain.pop(i+2)\n",
    "        domain=''.join(domain)\n",
    "        result.append(domain)\n",
    "        return result\n",
    "        \n",
    "    return result\n",
    "        \n",
    "        \n",
    "    "
   ]
  },
  {
   "cell_type": "markdown",
   "metadata": {},
   "source": [
    "六、相似的字母与数字混淆。\n",
    " \n",
    "    这种情况以看错为前提，如google.com输成g00gle.com、goo9le.com或者goog1e.com(字母“l”跟数字“1”)。"
   ]
  },
  {
   "cell_type": "code",
   "execution_count": 95,
   "metadata": {},
   "outputs": [],
   "source": [
    "def mix(domain):\n",
    "    result=[]\n",
    "    p='.'.join(domain.split('.')[:-1])\n",
    "    for item in p:\n",
    "        if item =='o':\n",
    "            p=p.replace(item,'0')\n",
    "            result.append(p+'.'+domain.split('.')[-1])\n",
    "        elif item == 'g':\n",
    "            p=p.replace(item,'9')\n",
    "            result.append(p+'.'+domain.split('.')[-1])\n",
    "        elif item == 'l':\n",
    "            p=p.replace(item,'1')\n",
    "            result.append(p+'.'+domain.split('.')[-1])\n",
    "    return result\n",
    "    "
   ]
  },
  {
   "cell_type": "code",
   "execution_count": 51,
   "metadata": {},
   "outputs": [],
   "source": [
    "def generator(domain):\n",
    "    return (loss(domain)+add1(domain)+add2(domain)+exchange(domain)+mistake(domain)+www(domain)+ing(domain)+mix(domain))"
   ]
  },
  {
   "cell_type": "code",
   "execution_count": 97,
   "metadata": {},
   "outputs": [],
   "source": [
    "\n",
    "gg=generator('sina.com')\n"
   ]
  },
  {
   "cell_type": "code",
   "execution_count": 98,
   "metadata": {},
   "outputs": [
    {
     "name": "stdout",
     "output_type": "stream",
     "text": [
      "['sina.co', 'sia.com', 'ina.com', 'sna.com', 'sin.com', 'sina.cm', 'sina.om', 'asina.com', 'saina.com', 'bsina.com', 'sbina.com', 'csina.com', 'scina.com', 'dsina.com', 'sdina.com', 'esina.com', 'seina.com', 'fsina.com', 'sfina.com', 'gsina.com', 'sgina.com', 'hsina.com', 'shina.com', 'isina.com', 'siina.com', 'jsina.com', 'sjina.com', 'ksina.com', 'skina.com', 'lsina.com', 'slina.com', 'msina.com', 'smina.com', 'nsina.com', 'snina.com', 'osina.com', 'soina.com', 'psina.com', 'spina.com', 'qsina.com', 'sqina.com', 'rsina.com', 'srina.com', 'ssina.com', 'ssina.com', 'tsina.com', 'stina.com', 'usina.com', 'suina.com', 'vsina.com', 'svina.com', 'wsina.com', 'swina.com', 'xsina.com', 'sxina.com', 'ysina.com', 'syina.com', 'zsina.com', 'szina.com', 'saina.com', 'siana.com', 'sbina.com', 'sibna.com', 'scina.com', 'sicna.com', 'sdina.com', 'sidna.com', 'seina.com', 'siena.com', 'sfina.com', 'sifna.com', 'sgina.com', 'signa.com', 'shina.com', 'sihna.com', 'siina.com', 'siina.com', 'sjina.com', 'sijna.com', 'skina.com', 'sikna.com', 'slina.com', 'silna.com', 'smina.com', 'simna.com', 'snina.com', 'sinna.com', 'soina.com', 'siona.com', 'spina.com', 'sipna.com', 'sqina.com', 'siqna.com', 'srina.com', 'sirna.com', 'ssina.com', 'sisna.com', 'stina.com', 'sitna.com', 'suina.com', 'siuna.com', 'svina.com', 'sivna.com', 'swina.com', 'siwna.com', 'sxina.com', 'sixna.com', 'syina.com', 'siyna.com', 'szina.com', 'sizna.com', 'siana.com', 'sinaa.com', 'sibna.com', 'sinba.com', 'sicna.com', 'sinca.com', 'sidna.com', 'sinda.com', 'siena.com', 'sinea.com', 'sifna.com', 'sinfa.com', 'signa.com', 'singa.com', 'sihna.com', 'sinha.com', 'siina.com', 'sinia.com', 'sijna.com', 'sinja.com', 'sikna.com', 'sinka.com', 'silna.com', 'sinla.com', 'simna.com', 'sinma.com', 'sinna.com', 'sinna.com', 'siona.com', 'sinoa.com', 'sipna.com', 'sinpa.com', 'siqna.com', 'sinqa.com', 'sirna.com', 'sinra.com', 'sisna.com', 'sinsa.com', 'sitna.com', 'sinta.com', 'siuna.com', 'sinua.com', 'sivna.com', 'sinva.com', 'siwna.com', 'sinwa.com', 'sixna.com', 'sinxa.com', 'siyna.com', 'sinya.com', 'sizna.com', 'sinza.com', 'sinaa.com', 'sinaa.com', 'sinba.com', 'sinab.com', 'sinca.com', 'sinac.com', 'sinda.com', 'sinad.com', 'sinea.com', 'sinae.com', 'sinfa.com', 'sinaf.com', 'singa.com', 'sinag.com', 'sinha.com', 'sinah.com', 'sinia.com', 'sinai.com', 'sinja.com', 'sinaj.com', 'sinka.com', 'sinak.com', 'sinla.com', 'sinal.com', 'sinma.com', 'sinam.com', 'sinna.com', 'sinan.com', 'sinoa.com', 'sinao.com', 'sinpa.com', 'sinap.com', 'sinqa.com', 'sinaq.com', 'sinra.com', 'sinar.com', 'sinsa.com', 'sinas.com', 'sinta.com', 'sinat.com', 'sinua.com', 'sinau.com', 'sinva.com', 'sinav.com', 'sinwa.com', 'sinaw.com', 'sinxa.com', 'sinax.com', 'sinya.com', 'sinay.com', 'sinza.com', 'sinaz.com', 'sina.cmo', 'snia.com', 'sian.com', 'isna.com', 'sina.ocm', 'wina.com', 'eina.com', 'aina.com', 'dina.com', 'zina.com', 'xina.com', 'suna.com', 'sona.com', 'skna.com', 'siha.com', 'sija.com', 'siba.com', 'sima.com', 'sinq.com', 'sinw.com', 'sins.com', 'sinz.com', 'wwwsina.com', 'singa.com']\n"
     ]
    }
   ],
   "source": [
    "print(gg)"
   ]
  },
  {
   "cell_type": "code",
   "execution_count": 99,
   "metadata": {},
   "outputs": [
    {
     "data": {
      "text/plain": [
       "239"
      ]
     },
     "execution_count": 99,
     "metadata": {},
     "output_type": "execute_result"
    }
   ],
   "source": [
    "len(gg)"
   ]
  },
  {
   "cell_type": "code",
   "execution_count": null,
   "metadata": {},
   "outputs": [],
   "source": []
  }
 ],
 "metadata": {
  "kernelspec": {
   "display_name": "Python 3",
   "language": "python",
   "name": "python3"
  },
  "language_info": {
   "codemirror_mode": {
    "name": "ipython",
    "version": 3
   },
   "file_extension": ".py",
   "mimetype": "text/x-python",
   "name": "python",
   "nbconvert_exporter": "python",
   "pygments_lexer": "ipython3",
   "version": "3.8.5"
  }
 },
 "nbformat": 4,
 "nbformat_minor": 4
}
